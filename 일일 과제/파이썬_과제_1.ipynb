{
 "cells": [
  {
   "cell_type": "markdown",
   "metadata": {},
   "source": [
    "# **실습 문제1**\n",
    "화씨온도(℉)를 입력 받아서 섭씨온도(℃)로 바꾸는 프로그램을 작성하시오. "
   ]
  },
  {
   "cell_type": "code",
   "execution_count": 4,
   "metadata": {},
   "outputs": [
    {
     "name": "stdout",
     "output_type": "stream",
     "text": [
      "화씨온도: 100\n",
      "섭씨온도:  37.77777777777778\n"
     ]
    }
   ],
   "source": [
    "f = float(input(\"화씨온도: \"))\n",
    "print(\"섭씨온도: \", (f-32)*5/9)"
   ]
  },
  {
   "cell_type": "markdown",
   "metadata": {},
   "source": [
    "# **실습 문제2**\n",
    "사용자로부터 투입한 돈과 물건 값을 입력 받아, 잔돈을 계산하여 출력한다. (단, 동전의 개수는 최소화 할 것)"
   ]
  },
  {
   "cell_type": "code",
   "execution_count": 5,
   "metadata": {},
   "outputs": [
    {
     "name": "stdout",
     "output_type": "stream",
     "text": [
      "투입한 돈: 1000\n",
      "물건 값: 500\n",
      "거스름돈: 500\n",
      "500원짜리: 1개\n",
      "100원짜리: 0개\n"
     ]
    }
   ],
   "source": [
    "payment = int(input(\"투입한 돈: \"))\n",
    "cost = int(input(\"물건 값: \"))\n",
    "change = payment-cost\n",
    "print(\"거스름돈:\", change)\n",
    "print(\"500원짜리: %d개\" %(change//500))\n",
    "change %= 500\n",
    "print(\"100원짜리: %d개\" %(change//100))"
   ]
  },
  {
   "cell_type": "markdown",
   "metadata": {},
   "source": [
    "# **실습 문제3** (PPT)"
   ]
  },
  {
   "cell_type": "code",
   "execution_count": 6,
   "metadata": {},
   "outputs": [],
   "source": [
    "word = 'Hello'"
   ]
  },
  {
   "cell_type": "code",
   "execution_count": 7,
   "metadata": {},
   "outputs": [
    {
     "data": {
      "text/plain": [
       "'o'"
      ]
     },
     "execution_count": 7,
     "metadata": {},
     "output_type": "execute_result"
    }
   ],
   "source": [
    "word[-1]"
   ]
  },
  {
   "cell_type": "code",
   "execution_count": 8,
   "metadata": {},
   "outputs": [
    {
     "data": {
      "text/plain": [
       "'o'"
      ]
     },
     "execution_count": 8,
     "metadata": {},
     "output_type": "execute_result"
    }
   ],
   "source": [
    "word[len(word)-1]"
   ]
  },
  {
   "cell_type": "markdown",
   "metadata": {},
   "source": [
    "# **실습 문제3**\n",
    "원의 반지름을 r을 입력 받아, 원의 둘레와 넓이를 구하는 프로그램을 작성하시오."
   ]
  },
  {
   "cell_type": "code",
   "execution_count": 18,
   "metadata": {},
   "outputs": [
    {
     "name": "stdout",
     "output_type": "stream",
     "text": [
      "반지름을 입력하시오: 45\n",
      "원 둘레:  282.74\n",
      "원 넓이:  6361.72\n"
     ]
    }
   ],
   "source": [
    "radius = float(input(\"반지름을 입력하시오: \"))\n",
    "pi = 3.141592\n",
    "print(\"원 둘레: \", round(2*pi*radius,2))\n",
    "print(\"원 넓이: \", round(pi*radius*radius,2))"
   ]
  },
  {
   "cell_type": "markdown",
   "metadata": {},
   "source": [
    "# **실습 문제4**\n",
    "2개의 정수를 입력 받아, 사칙연산 및 나머지 연산의 결과를 아래와 같이 출력하는 프로그램을 작성하시오."
   ]
  },
  {
   "cell_type": "code",
   "execution_count": 20,
   "metadata": {},
   "outputs": [
    {
     "name": "stdout",
     "output_type": "stream",
     "text": [
      "Enter two integers: 8 5\n",
      "8 + 5 = 13\n",
      "8 - 5 = 3\n",
      "8 * 5 = 40\n",
      "8 / 5 = 1\n",
      "8 % 5 = 3\n"
     ]
    }
   ],
   "source": [
    "number = input(\"Enter two integers: \")\n",
    "num_a, num_b = number.split()\n",
    "num_a = int(num_a)\n",
    "num_b = int(num_b)\n",
    "print(\"%d + %d = %d\"%(num_a ,num_b,num_a+num_b))\n",
    "print(\"%d - %d = %d\"%(num_a ,num_b,num_a-num_b))\n",
    "print(\"%d * %d = %d\"%(num_a ,num_b,num_a*num_b))\n",
    "print(\"%d / %d = %d\"%(num_a ,num_b,num_a/num_b))\n",
    "print(\"%d %% %d = %d\"%(num_a ,num_b,num_a%num_b))"
   ]
  },
  {
   "cell_type": "markdown",
   "metadata": {},
   "source": [
    "# **실습 문제5**\n",
    "두 정수를 입력 받아, 합과 평균을 구하여 출력하는 프로그램을 작성하시오."
   ]
  },
  {
   "cell_type": "code",
   "execution_count": 21,
   "metadata": {},
   "outputs": [
    {
     "name": "stdout",
     "output_type": "stream",
     "text": [
      "Enter two integers: 70 91\n",
      "The sum of 70 and 91 is 161\n",
      "The average of number is  80.5\n"
     ]
    }
   ],
   "source": [
    "number2 = input(\"Enter two integers: \")\n",
    "number_list2 = number2.split()\n",
    "number_list2 = list(map(float, number_list2))\n",
    "print(\"The sum of %d and %d is %d\" %(number_list2[0],number_list2[1],number_list2[0]+number_list2[1]))\n",
    "print(\"The average of number is \", round((number_list2[0]+number_list2[1])/2,1))"
   ]
  },
  {
   "cell_type": "markdown",
   "metadata": {},
   "source": [
    "# **실습 문제6**"
   ]
  },
  {
   "cell_type": "code",
   "execution_count": 22,
   "metadata": {},
   "outputs": [
    {
     "name": "stdout",
     "output_type": "stream",
     "text": [
      "날짜(연/월/일)입력: 2021/02/16\n",
      "입력한 날짜의 10년 후는 2031년 02월 16일\n"
     ]
    }
   ],
   "source": [
    "date = input(\"날짜(연/월/일)입력: \")\n",
    "year, month, day = date.split(\"/\")\n",
    "print(\"입력한 날짜의 10년 후는 %s년 %s월 %s일\" %(int(year)+10,month,day))"
   ]
  },
  {
   "cell_type": "markdown",
   "metadata": {},
   "source": [
    "### 따라 해보기"
   ]
  },
  {
   "cell_type": "markdown",
   "metadata": {},
   "source": [
    "##### 실습1\n",
    "1부터 10까지의 리스트 생성"
   ]
  },
  {
   "cell_type": "code",
   "execution_count": 33,
   "metadata": {},
   "outputs": [
    {
     "data": {
      "text/plain": [
       "[1, 2, 3, 4, 5, 6, 7, 8, 9, 10]"
      ]
     },
     "execution_count": 33,
     "metadata": {},
     "output_type": "execute_result"
    }
   ],
   "source": [
    "one_to_ten = list(range(1,11))\n",
    "one_to_ten"
   ]
  },
  {
   "cell_type": "markdown",
   "metadata": {},
   "source": [
    "##### 실습2\n",
    "10부터 1까지의 리스트 생성"
   ]
  },
  {
   "cell_type": "code",
   "execution_count": 38,
   "metadata": {},
   "outputs": [
    {
     "data": {
      "text/plain": [
       "[10, 9, 8, 7, 6, 5, 4, 3, 2, 1]"
      ]
     },
     "execution_count": 38,
     "metadata": {},
     "output_type": "execute_result"
    }
   ],
   "source": [
    "ten_to_one = list(range(10, 0, -1))\n",
    "ten_to_one"
   ]
  },
  {
   "cell_type": "markdown",
   "metadata": {},
   "source": [
    "##### 실습3\n",
    "1부터 10까지의 짝수 리스트 생성"
   ]
  },
  {
   "cell_type": "code",
   "execution_count": 47,
   "metadata": {},
   "outputs": [
    {
     "data": {
      "text/plain": [
       "[2, 4, 6, 8, 10]"
      ]
     },
     "execution_count": 47,
     "metadata": {},
     "output_type": "execute_result"
    }
   ],
   "source": [
    "even_list = list(range(2,11,2))\n",
    "even_list"
   ]
  },
  {
   "cell_type": "markdown",
   "metadata": {},
   "source": [
    "##### 실습4\n",
    "1부터 10까지의 홀수 리스트 생성"
   ]
  },
  {
   "cell_type": "code",
   "execution_count": 50,
   "metadata": {},
   "outputs": [
    {
     "data": {
      "text/plain": [
       "[1, 3, 5, 7, 9]"
      ]
     },
     "execution_count": 50,
     "metadata": {},
     "output_type": "execute_result"
    }
   ],
   "source": [
    "odd_list = list(range(1,11,2))\n",
    "odd_list"
   ]
  },
  {
   "cell_type": "markdown",
   "metadata": {},
   "source": [
    "##### 실습4\n",
    "리스트 더하기"
   ]
  },
  {
   "cell_type": "code",
   "execution_count": 59,
   "metadata": {},
   "outputs": [
    {
     "data": {
      "text/plain": [
       "[2, 4, 6, 8, 10, 1, 3, 5, 7, 9]"
      ]
     },
     "execution_count": 59,
     "metadata": {},
     "output_type": "execute_result"
    }
   ],
   "source": [
    "even_list+odd_list\n",
    "# num3 = even_list+odd_list\n",
    "# sorted(num3)"
   ]
  },
  {
   "cell_type": "code",
   "execution_count": null,
   "metadata": {},
   "outputs": [],
   "source": [
    "a = input(\"이름은?\")\n",
    "print(a)\n",
    "\n",
    "# 제가 그리고 팀이 8정도 힘들어\n",
    "# 도와주면 9\n"
   ]
  },
  {
   "cell_type": "code",
   "execution_count": null,
   "metadata": {},
   "outputs": [],
   "source": [
    "payment = int(input(\"투입한 돈: \"))\n",
    "cost = int(input(\"물건 값: \"))\n",
    "change = payment-cost\n",
    "print(\"거스름돈:\", change)\n",
    "print(\"500원짜리: %d개\" %(change//500))\n",
    "change %= 500\n",
    "print(\"100원짜리: %d개\" %(change//100))"
   ]
  }
 ],
 "metadata": {
  "kernelspec": {
   "display_name": "Python 3",
   "language": "python",
   "name": "python3"
  },
  "language_info": {
   "codemirror_mode": {
    "name": "ipython",
    "version": 3
   },
   "file_extension": ".py",
   "mimetype": "text/x-python",
   "name": "python",
   "nbconvert_exporter": "python",
   "pygments_lexer": "ipython3",
   "version": "3.8.5"
  }
 },
 "nbformat": 4,
 "nbformat_minor": 4
}
